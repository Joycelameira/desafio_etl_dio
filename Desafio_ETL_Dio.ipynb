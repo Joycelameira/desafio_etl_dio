{
  "nbformat": 4,
  "nbformat_minor": 0,
  "metadata": {
    "colab": {
      "provenance": []
    },
    "kernelspec": {
      "name": "python3",
      "display_name": "Python 3"
    },
    "language_info": {
      "name": "python"
    }
  },
  "cells": [
    {
      "cell_type": "code",
      "execution_count": 22,
      "metadata": {
        "id": "f84zttjaHQ2g"
      },
      "outputs": [],
      "source": [
        "import pandas as pd\n",
        "\n",
        "\n",
        "orquideas = pd.read_csv('desafioEtlNovo.csv')\n",
        "# Convertendo DataFrame para lista de dicionários\n",
        "lista_orquideas = orquideas.to_dict('records')\n",
        "\n",
        "# Exibindo os dados convertidos\n",
        "#print(lista_orquideas)\n",
        "# for orquidea in lista_orquideas:\n",
        "#   orquidea['longevidade'] = 'qualquer coisa'\n",
        "#   print(orquidea)"
      ]
    },
    {
      "cell_type": "code",
      "source": [
        "!pip install openai"
      ],
      "metadata": {
        "id": "VnoV3moFOo0J"
      },
      "execution_count": null,
      "outputs": []
    },
    {
      "cell_type": "code",
      "source": [
        "import openai\n",
        "import pandas as pd\n",
        "\n",
        "openai_api_key = 'token'\n",
        "openai.api_key = openai_api_key\n",
        "\n",
        "def generate_ai_longevidade(orquidea):\n",
        "  completion = openai.ChatCompletion.create(\n",
        "    model=\"gpt-3.5-turbo\",\n",
        "    messages=[\n",
        "         {\n",
        "          \"role\": \"system\",\n",
        "          \"content\": \"você é um especialista em orquidea.\"\n",
        "          },\n",
        "          {\"role\": \"user\",\n",
        "           \"content\": f\"me forneça a longevidade da orquídea {orquidea['nome']} de forma resumida(maximo de 100 caracteres)\"\n",
        "           }\n",
        "   ]\n",
        "  )\n",
        "  return completion.choices[0].message.content.strip('\\\"')\n",
        "\n",
        "for orquidea in lista_orquideas:\n",
        "  longevidade = generate_ai_longevidade(orquidea)\n",
        "  orquidea['longevidade'] = longevidade\n",
        "\n",
        "\n",
        "print(lista_orquideas)\n",
        "\n",
        "# Criar DataFrame\n",
        "df_orquideas = pd.DataFrame(lista_orquideas)\n",
        "# Salvar como arquivo CSV\n",
        "df_orquideas.to_csv('orquideas.csv', index=False)\n",
        "\n",
        "print('finalizado')\n",
        "\n",
        "\n"
      ],
      "metadata": {
        "colab": {
          "base_uri": "https://localhost:8080/"
        },
        "id": "7WH5v5k6O95K",
        "outputId": "60e96cea-34a9-4f87-ab10-6023a4237d59"
      },
      "execution_count": 25,
      "outputs": [
        {
          "output_type": "stream",
          "name": "stdout",
          "text": [
            "[{'id': 1, 'nome': 'Orquídea Celestial', 'descricao': 'Possui pétalas que mudam de cor suavemente ao longo do dia refletindo as nuances do céu durante o amanhecer e o anoitecer.', 'classificacao': 'colorida', 'longevidade': '5-10 anos.'}, {'id': 2, 'nome': 'Flor do Luar', 'descricao': 'Emite uma fragrância suave e relaxante durante a noite atraindo polinizadores noturnos e criando uma atmosfera tranquila no jardim.', 'classificacao': 'colorida', 'longevidade': 'Flor do Luar: Até 3 semanas de vida.'}, {'id': 3, 'nome': 'Rosa Encantada', 'descricao': 'Suas pétalas têm uma textura aveludada e um padrão único que lembra delicadas rendas dando-lhe uma aparência encantadora e elegante.', 'classificacao': 'colorida', 'longevidade': 'Orquídea Rosa Encantada: longevidade média de 2 a 4 semanas.'}]\n",
            "finalizado\n"
          ]
        }
      ]
    }
  ]
}